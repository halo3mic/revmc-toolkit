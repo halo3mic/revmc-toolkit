{
 "cells": [
  {
   "cell_type": "code",
   "execution_count": 1,
   "metadata": {},
   "outputs": [],
   "source": [
    "import pandas as pd"
   ]
  },
  {
   "cell_type": "code",
   "execution_count": 2,
   "metadata": {},
   "outputs": [],
   "source": [
    "DATA_DIR_PATH = \"../.data/measurements/\"\n",
    "LABEL = \"f20251376t21251376s1000e1732430233\""
   ]
  },
  {
   "cell_type": "markdown",
   "metadata": {},
   "source": [
    "## Paired t-test"
   ]
  },
  {
   "cell_type": "code",
   "execution_count": 3,
   "metadata": {},
   "outputs": [
    {
     "name": "stdout",
     "output_type": "stream",
     "text": [
      "Found 1000 pairs with min-block-num: 20251376 and max-block-num: 20252375\n"
     ]
    }
   ],
   "source": [
    "path = DATA_DIR_PATH + LABEL + \".csv\"\n",
    "df = pd.read_csv(path).drop_duplicates()\n",
    "\n",
    "# todo: handle duplicates\n",
    "# drop column \"err\"\n",
    "df = df.drop(columns=['err'])\n",
    "\n",
    "df = df.groupby(['id', 'run_type']).mean().reset_index() # For any duplicated block_num, we take the mean of the values \n",
    "df_wide = df.pivot(index='id', columns='run_type', values='exe_time').dropna(axis=0).reset_index()\n",
    "print(f\"Found {len(df_wide)} pairs with min-block-num: {df_wide['id'].min()} and max-block-num: {df_wide['id'].max()}\")"
   ]
  },
  {
   "cell_type": "code",
   "execution_count": 4,
   "metadata": {},
   "outputs": [],
   "source": [
    "import scipy.stats as stats\n",
    "import numpy as np\n",
    "\n",
    "def perform_t_test(sample, alpha=0.05):\n",
    "    t_stat, p_value = stats.ttest_1samp(sample, 0)\n",
    "\n",
    "    print(f\"mean-ratio: {np.mean(sample):.2f}\")\n",
    "    print(f\"T-statistic: {t_stat:.2f}\")\n",
    "    print(f\"P-value: {p_value:.2f}\")\n",
    "    print(f\"stddev: {np.std(sample):.2f}\")\n",
    "\n",
    "    print(\"\\nVerdict:\")\n",
    "    if p_value < alpha:\n",
    "        print(f\"Reject the null hypothesis H0 at significance level {alpha}.\")\n",
    "        if t_stat < 0:\n",
    "            print(\"H1: The mean latency of the new method is significantly less than the old one.\")\n",
    "        else:\n",
    "            print(\"H2: The mean latency of the new method is significantly greater than the old one.\")\n",
    "    else:\n",
    "        print(\"Fail to reject the null hypothesis H0: There is no significant difference in latency.\")"
   ]
  },
  {
   "cell_type": "markdown",
   "metadata": {},
   "source": [
    "### AOT vs Native"
   ]
  },
  {
   "cell_type": "code",
   "execution_count": 5,
   "metadata": {},
   "outputs": [
    {
     "name": "stdout",
     "output_type": "stream",
     "text": [
      "mean-ratio: -0.02\n",
      "T-statistic: -8.82\n",
      "P-value: 0.00\n",
      "stddev: 0.07\n",
      "\n",
      "Verdict:\n",
      "Reject the null hypothesis H0 at significance level 0.05.\n",
      "H1: The mean latency of the new method is significantly less than the old one.\n"
     ]
    }
   ],
   "source": [
    "diff_ratios = (df_wide['aot'] - df_wide['native']) / df_wide['native']\n",
    "perform_t_test(diff_ratios)"
   ]
  },
  {
   "cell_type": "markdown",
   "metadata": {},
   "source": [
    "### JIT vs Native"
   ]
  },
  {
   "cell_type": "code",
   "execution_count": 6,
   "metadata": {},
   "outputs": [],
   "source": [
    "# perform_t_test(df_wide['jit'], df_wide['native'])"
   ]
  },
  {
   "cell_type": "markdown",
   "metadata": {},
   "source": [
    "## Histograms"
   ]
  },
  {
   "cell_type": "code",
   "execution_count": 7,
   "metadata": {},
   "outputs": [
    {
     "data": {
      "image/png": "[encoded data removed]",
      "text/plain": [
       "<Figure size 640x480 with 1 Axes>"
      ]
     },
     "metadata": {},
     "output_type": "display_data"
    }
   ],
   "source": [
    "import matplotlib.pyplot as plt\n",
    "\n",
    "\n",
    "# jit_diff = (df_wide['jit'] - df_wide['native']) \\\n",
    "#     .loc[lambda x: np.abs(stats.zscore(x)) < 2]\n",
    "aot_diff = diff_ratios\n",
    "\n",
    "# plt.hist(jit_diff, bins=100, alpha=0.5, label='jit-native')\n",
    "plt.hist(aot_diff, bins=80, alpha=0.5, label=r\"$\\frac{t_{aot}-t_{native}}{t_{native}}$\")\n",
    "\n",
    "plt.xlabel('Change in execution time relative to the native')\n",
    "plt.ylabel('Frequency')\n",
    "plt.title('Histogram of change in execution time')\n",
    "plt.legend()\n",
    "\n",
    "plt.show()"
   ]
  },
  {
   "cell_type": "code",
   "execution_count": null,
   "metadata": {},
   "outputs": [],
   "source": []
  }
 ],
 "metadata": {
  "kernelspec": {
   "display_name": ".venv",
   "language": "python",
   "name": "python3"
  },
  "language_info": {
   "codemirror_mode": {
    "name": "ipython",
    "version": 3
   },
   "file_extension": ".py",
   "mimetype": "text/x-python",
   "name": "python",
   "nbconvert_exporter": "python",
   "pygments_lexer": "ipython3",
   "version": "3.12.3"
  }
 },
 "nbformat": 4,
 "nbformat_minor": 2
}
